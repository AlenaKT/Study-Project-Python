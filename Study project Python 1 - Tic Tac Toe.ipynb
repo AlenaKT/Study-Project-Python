{
 "cells": [
  {
   "cell_type": "markdown",
   "metadata": {},
   "source": [
    "# Проект Python - \"Tic Tac Toe in Python\"\n",
    "\n",
    "Задание: Написать игру крестики-нолики (Tic Tac Toe) на Python. \n",
    "\n",
    "Требования:\n",
    "\n",
    "* В игру должны играть 2 игрока (оба за одним и тем же компьютером)\n",
    "* На каждом ходе игрока, текущее состояние поля выводится на экран\n",
    "* Вы должны получать на вход координаты клетки, куда следует поместить символ игрока, и затем помещать символ на поле"
   ]
  },
  {
   "cell_type": "markdown",
   "metadata": {},
   "source": [
    "-----"
   ]
  },
  {
   "cell_type": "markdown",
   "metadata": {
    "collapsed": true
   },
   "source": [
    "Шаг 1: Функция, которая выводит на экран игровое поле. Поле хранится как список, где номера 1-9 соответствуют цифрам на цифровой клавиатуре. В итоге получается игровое поле 3 на 3"
   ]
  },
  {
   "cell_type": "code",
   "execution_count": 1,
   "metadata": {},
   "outputs": [],
   "source": [
    "from IPython.display import clear_output\n",
    "\n",
    "def display_board(board):\n",
    "    clear_output()\n",
    "    print(board[7] + '|' + board[8] + '|' + board[9])\n",
    "    print('-|-|-')\n",
    "    print(board[4] + '|' + board[5] + '|' + board[6])\n",
    "    print('-|-|-')\n",
    "    print(board[1] + '|' + board[2] + '|' + board[3])"
   ]
  },
  {
   "cell_type": "markdown",
   "metadata": {},
   "source": [
    "Шаг 2: Функция, которая спрашивает пользователя, какой символ он хочет использовать, 'X' или 'O' до тех пор, пока пользователь не введёт корректный вариант ответа."
   ]
  },
  {
   "cell_type": "code",
   "execution_count": 2,
   "metadata": {},
   "outputs": [],
   "source": [
    "def player_input():\n",
    "    marker = ''\n",
    "    \n",
    "    while not (marker == 'X' or marker == 'O'):\n",
    "        marker = input('Игрок 1: Кем Вы хотите играть, X или O? ').upper()\n",
    "\n",
    "    if marker == 'X':\n",
    "        return ('X', 'O')\n",
    "    else:\n",
    "        return ('O', 'X')"
   ]
  },
  {
   "cell_type": "markdown",
   "metadata": {},
   "source": [
    "Шаг 3: Функция, которая принимает на вход объект игровое поле (список), символ ('X' или 'O'), желаемую позицию (число 1-9), и помещает этот символ на игровое поле."
   ]
  },
  {
   "cell_type": "code",
   "execution_count": 3,
   "metadata": {},
   "outputs": [],
   "source": [
    "def place_marker(board, marker, position):\n",
    "    board[position] = marker"
   ]
  },
  {
   "cell_type": "markdown",
   "metadata": {},
   "source": [
    "Шаг 4: Функция, которая берёт игровое поле, символ (X или O) и затем проверяет, выиграл ли этот символ."
   ]
  },
  {
   "cell_type": "code",
   "execution_count": 4,
   "metadata": {},
   "outputs": [],
   "source": [
    "def win_check(board, mark):\n",
    "    return (board[7] == board[8] == board[9] == mark or \\\n",
    "    board[4] == board[5] == board[6] == mark or \\\n",
    "    board[1] == board[2] == board[3] == mark or \\\n",
    "    board[7] == board[5] == board[3] == mark or \\\n",
    "    board[1] == board[5] == board[9] == mark or \\\n",
    "    board[7] == board[4] == board[1] == mark or \\\n",
    "    board[8] == board[5] == board[2] == mark or \\\n",
    "    board[9] == board[6] == board[3] == mark)"
   ]
  },
  {
   "cell_type": "markdown",
   "metadata": {},
   "source": [
    "Шаг 5: Функция, которая использует модуль random, чтобы случайным образом решить, какой из игроков ходит первым. Возвращается строка с информацией о том, кто из игроков ходит первым."
   ]
  },
  {
   "cell_type": "code",
   "execution_count": 5,
   "metadata": {},
   "outputs": [],
   "source": [
    "import random\n",
    "\n",
    "def choose_first():\n",
    "    if random.randint(1, 2) == 1:\n",
    "        return 'Игрок №1'\n",
    "    else:\n",
    "        return 'Игрок №2'"
   ]
  },
  {
   "cell_type": "markdown",
   "metadata": {},
   "source": [
    "Шаг 6: Функция, которая возвращает значение boolean в зависимости от того, является ли указанное место на игровом поле пустым или нет."
   ]
  },
  {
   "cell_type": "code",
   "execution_count": 6,
   "metadata": {},
   "outputs": [],
   "source": [
    "def space_check(board, position):\n",
    "    if board[position] == 'X' or board[position] == 'O':\n",
    "        return False\n",
    "    else:\n",
    "        return True"
   ]
  },
  {
   "cell_type": "markdown",
   "metadata": {},
   "source": [
    "Шаг 7: Функция, которая проверяет, является ли игровое поле полностью заполненным, и возвращает значение boolean - True если полностью заполнено, иначе False."
   ]
  },
  {
   "cell_type": "code",
   "execution_count": 7,
   "metadata": {},
   "outputs": [],
   "source": [
    "def full_board_check(board):\n",
    "    for i in range(1,10):\n",
    "        if space_check(board, i):\n",
    "            return False\n",
    "    return True"
   ]
  },
  {
   "cell_type": "markdown",
   "metadata": {},
   "source": [
    "Шаг 8: Функция, которая запрашивает у игрока следующую позицию (как число 1-9), и затем использует функцию с шага 6, чтобы проверить, является ли эта позиция пустой. Если да, то возвращает эту позицию для дальнейшего использования."
   ]
  },
  {
   "cell_type": "code",
   "execution_count": 8,
   "metadata": {},
   "outputs": [],
   "source": [
    "def player_choice(board):\n",
    "    position = ''\n",
    "    while position not in range(1,10) or not space_check(board, position):\n",
    "        position = int(input('Пожалуйста, выберите следующую клетку (1-9): '))\n",
    "   \n",
    "    return position"
   ]
  },
  {
   "cell_type": "markdown",
   "metadata": {},
   "source": [
    "Шаг 9: Функция, которая спрашивает игрока, хочет ли он сыграть снова, и возвращает True если игрок говорит \"Yes\" (\"да\")."
   ]
  },
  {
   "cell_type": "code",
   "execution_count": 9,
   "metadata": {},
   "outputs": [],
   "source": [
    "def replay():\n",
    "    answer = ''\n",
    "    while answer != 'YES' and answer != 'NO':\n",
    "        answer = input(\"Хотите ли вы сыграть еще? (Yes/No)\").upper()\n",
    "    \n",
    "    if answer == 'YES':\n",
    "        return True"
   ]
  },
  {
   "cell_type": "markdown",
   "metadata": {},
   "source": [
    "Шаг 10: Сбор всех функций воедино и запуск игры"
   ]
  },
  {
   "cell_type": "code",
   "execution_count": null,
   "metadata": {},
   "outputs": [
    {
     "name": "stdout",
     "output_type": "stream",
     "text": [
      "Добро пожаловать в игру Крестики-Нолики!\n"
     ]
    }
   ],
   "source": [
    "print('Добро пожаловать в игру Крестики-Нолики!')\n",
    "\n",
    "\n",
    "while True:\n",
    "    # Настройка игры\n",
    "    board = [' '] * 10\n",
    "    player1_marker, player2_marker = player_input()\n",
    "    first = choose_first()\n",
    "    print('Первым ходит ' + first + '!')\n",
    "    \n",
    "    play_game = input('Начинаем игру? Введите Yes или No.')\n",
    "    \n",
    "    if play_game.lower() == 'yes':\n",
    "        game_on = True\n",
    "    else:\n",
    "        game_on = False\n",
    "\n",
    "    while game_on:\n",
    "        if first == 'Игрок №1':\n",
    "            # Ход Игрока 1\n",
    "            \n",
    "            display_board(board)\n",
    "            position = player_choice(board)\n",
    "            place_marker(board, player1_marker, position)\n",
    "\n",
    "            if win_check(board, player1_marker):\n",
    "                display_board(board)\n",
    "                print('Выиграл Игрок №1! Игрок №1 - зашкал крутизны!')\n",
    "                game_on = False\n",
    "            else:\n",
    "                if full_board_check(board):\n",
    "                    display_board(board)\n",
    "                    print('Ничья!')\n",
    "                    break\n",
    "                else:\n",
    "                    first = 'Игрок №2'\n",
    "\n",
    "        else:\n",
    "            # Ход Игрока 2\n",
    "            \n",
    "            display_board(board)\n",
    "            position = player_choice(board)\n",
    "            place_marker(board, player2_marker, position)\n",
    "\n",
    "            if win_check(board, player2_marker):\n",
    "                display_board(board)\n",
    "                print('Выиграл Игрок №2! Игрок №2, Вы супер!')\n",
    "                game_on = False\n",
    "            else:\n",
    "                if full_board_check(board):\n",
    "                    display_board(board)\n",
    "                    print('Ничья!')\n",
    "                    break\n",
    "                else:\n",
    "                    first = 'Игрок №1'\n",
    "\n",
    "    if not replay():\n",
    "        break"
   ]
  },
  {
   "cell_type": "markdown",
   "metadata": {},
   "source": [
    "------"
   ]
  }
 ],
 "metadata": {
  "kernelspec": {
   "display_name": "Python 3 (ipykernel)",
   "language": "python",
   "name": "python3"
  },
  "language_info": {
   "codemirror_mode": {
    "name": "ipython",
    "version": 3
   },
   "file_extension": ".py",
   "mimetype": "text/x-python",
   "name": "python",
   "nbconvert_exporter": "python",
   "pygments_lexer": "ipython3",
   "version": "3.9.13"
  }
 },
 "nbformat": 4,
 "nbformat_minor": 2
}
